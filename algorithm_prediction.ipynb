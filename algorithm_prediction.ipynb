{
 "cells": [
  {
   "cell_type": "markdown",
   "metadata": {},
   "source": [
    "## Energy Forecasting with minimal data\n",
    "\n",
    "This code is divided into three major components:\n",
    "a. Data Exploration\n",
    "b. Data Staging\n",
    "c. Model Training and Performance analysis\n",
    "d. Export flat file (csv) for UI"
   ]
  },
  {
   "cell_type": "code",
   "execution_count": 1,
   "metadata": {},
   "outputs": [],
   "source": [
    "#Importing required libraries and packages\n",
    "\n",
    "import matplotlib.pyplot as plt\n",
    "import numpy as np\n",
    "import pandas as pd\n",
    "from sklearn.cluster import KMeans\n",
    "from sklearn.metrics.pairwise import euclidean_distances\n",
    "import datetime as dt\n",
    "from sklearn.metrics import silhouette_score\n",
    "from sklearn.model_selection import train_test_split\n",
    "# !pip install linearmodels"
   ]
  },
  {
   "cell_type": "markdown",
   "metadata": {},
   "source": [
    "# Input Data Description\n",
    "\n",
    "There are  three major components to the data:\n",
    "a. Train Data: This contains the hourly level consumption data of ~600 buildings spanning across 28 days\n",
    "b. Test Data: This data is obtained by splitting the consumption tain dataset containing ~150 buildings that have the first week of data, in order to predict the cold-start consumption\n",
    "c. Meta Data: This contains attributes such as 'base-temperature', 'surface-area', 'days of week when the building isn't functioning' at a building id level."
   ]
  },
  {
   "cell_type": "code",
   "execution_count": 2,
   "metadata": {},
   "outputs": [
    {
     "data": {
      "text/html": [
       "<div>\n",
       "<style scoped>\n",
       "    .dataframe tbody tr th:only-of-type {\n",
       "        vertical-align: middle;\n",
       "    }\n",
       "\n",
       "    .dataframe tbody tr th {\n",
       "        vertical-align: top;\n",
       "    }\n",
       "\n",
       "    .dataframe thead th {\n",
       "        text-align: right;\n",
       "    }\n",
       "</style>\n",
       "<table border=\"1\" class=\"dataframe\">\n",
       "  <thead>\n",
       "    <tr style=\"text-align: right;\">\n",
       "      <th></th>\n",
       "      <th>series_id</th>\n",
       "      <th>consumption</th>\n",
       "      <th>temperature</th>\n",
       "    </tr>\n",
       "  </thead>\n",
       "  <tbody>\n",
       "    <tr>\n",
       "      <th>count</th>\n",
       "      <td>509376.000000</td>\n",
       "      <td>5.093760e+05</td>\n",
       "      <td>280687.000000</td>\n",
       "    </tr>\n",
       "    <tr>\n",
       "      <th>mean</th>\n",
       "      <td>101851.234828</td>\n",
       "      <td>1.076238e+05</td>\n",
       "      <td>15.188679</td>\n",
       "    </tr>\n",
       "    <tr>\n",
       "      <th>std</th>\n",
       "      <td>1020.487674</td>\n",
       "      <td>1.626611e+05</td>\n",
       "      <td>8.987142</td>\n",
       "    </tr>\n",
       "    <tr>\n",
       "      <th>min</th>\n",
       "      <td>100003.000000</td>\n",
       "      <td>0.000000e+00</td>\n",
       "      <td>-13.466667</td>\n",
       "    </tr>\n",
       "    <tr>\n",
       "      <th>25%</th>\n",
       "      <td>100998.000000</td>\n",
       "      <td>1.542092e+04</td>\n",
       "      <td>8.451190</td>\n",
       "    </tr>\n",
       "    <tr>\n",
       "      <th>50%</th>\n",
       "      <td>101884.500000</td>\n",
       "      <td>4.986205e+04</td>\n",
       "      <td>15.163333</td>\n",
       "    </tr>\n",
       "    <tr>\n",
       "      <th>75%</th>\n",
       "      <td>102697.000000</td>\n",
       "      <td>1.351661e+05</td>\n",
       "      <td>21.800000</td>\n",
       "    </tr>\n",
       "    <tr>\n",
       "      <th>max</th>\n",
       "      <td>103634.000000</td>\n",
       "      <td>2.085109e+06</td>\n",
       "      <td>44.350000</td>\n",
       "    </tr>\n",
       "  </tbody>\n",
       "</table>\n",
       "</div>"
      ],
      "text/plain": [
       "           series_id   consumption    temperature\n",
       "count  509376.000000  5.093760e+05  280687.000000\n",
       "mean   101851.234828  1.076238e+05      15.188679\n",
       "std      1020.487674  1.626611e+05       8.987142\n",
       "min    100003.000000  0.000000e+00     -13.466667\n",
       "25%    100998.000000  1.542092e+04       8.451190\n",
       "50%    101884.500000  4.986205e+04      15.163333\n",
       "75%    102697.000000  1.351661e+05      21.800000\n",
       "max    103634.000000  2.085109e+06      44.350000"
      ]
     },
     "execution_count": 2,
     "metadata": {},
     "output_type": "execute_result"
    }
   ],
   "source": [
    "# Importing the datasets\n",
    "\n",
    "consumption = pd.read_csv('consumption_train.csv', index_col=0, parse_dates = ['timestamp'])# running on train dataset\n",
    "df_meta = pd.read_csv('meta.csv')\n",
    "consumption.describe()"
   ]
  },
  {
   "cell_type": "code",
   "execution_count": 3,
   "metadata": {},
   "outputs": [],
   "source": [
    "#creating a copy to ensure there is no loss of data\n",
    "df = consumption.copy()"
   ]
  },
  {
   "cell_type": "code",
   "execution_count": 4,
   "metadata": {},
   "outputs": [
    {
     "data": {
      "text/html": [
       "<div>\n",
       "<style scoped>\n",
       "    .dataframe tbody tr th:only-of-type {\n",
       "        vertical-align: middle;\n",
       "    }\n",
       "\n",
       "    .dataframe tbody tr th {\n",
       "        vertical-align: top;\n",
       "    }\n",
       "\n",
       "    .dataframe thead th {\n",
       "        text-align: right;\n",
       "    }\n",
       "</style>\n",
       "<table border=\"1\" class=\"dataframe\">\n",
       "  <thead>\n",
       "    <tr style=\"text-align: right;\">\n",
       "      <th></th>\n",
       "      <th>series_id</th>\n",
       "      <th>timestamp</th>\n",
       "      <th>consumption</th>\n",
       "      <th>temperature</th>\n",
       "    </tr>\n",
       "    <tr>\n",
       "      <th>Sl No</th>\n",
       "      <th></th>\n",
       "      <th></th>\n",
       "      <th></th>\n",
       "      <th></th>\n",
       "    </tr>\n",
       "  </thead>\n",
       "  <tbody>\n",
       "    <tr>\n",
       "      <th>0</th>\n",
       "      <td>103088</td>\n",
       "      <td>2014-12-24 00:00:00</td>\n",
       "      <td>101842.23340</td>\n",
       "      <td>NaN</td>\n",
       "    </tr>\n",
       "    <tr>\n",
       "      <th>1</th>\n",
       "      <td>103088</td>\n",
       "      <td>2014-12-24 01:00:00</td>\n",
       "      <td>105878.04890</td>\n",
       "      <td>NaN</td>\n",
       "    </tr>\n",
       "    <tr>\n",
       "      <th>2</th>\n",
       "      <td>103088</td>\n",
       "      <td>2014-12-24 02:00:00</td>\n",
       "      <td>91619.10501</td>\n",
       "      <td>NaN</td>\n",
       "    </tr>\n",
       "    <tr>\n",
       "      <th>3</th>\n",
       "      <td>103088</td>\n",
       "      <td>2014-12-24 03:00:00</td>\n",
       "      <td>94473.70620</td>\n",
       "      <td>NaN</td>\n",
       "    </tr>\n",
       "    <tr>\n",
       "      <th>4</th>\n",
       "      <td>103088</td>\n",
       "      <td>2014-12-24 04:00:00</td>\n",
       "      <td>96976.75553</td>\n",
       "      <td>NaN</td>\n",
       "    </tr>\n",
       "  </tbody>\n",
       "</table>\n",
       "</div>"
      ],
      "text/plain": [
       "       series_id           timestamp   consumption  temperature\n",
       "Sl No                                                          \n",
       "0         103088 2014-12-24 00:00:00  101842.23340          NaN\n",
       "1         103088 2014-12-24 01:00:00  105878.04890          NaN\n",
       "2         103088 2014-12-24 02:00:00   91619.10501          NaN\n",
       "3         103088 2014-12-24 03:00:00   94473.70620          NaN\n",
       "4         103088 2014-12-24 04:00:00   96976.75553          NaN"
      ]
     },
     "execution_count": 4,
     "metadata": {},
     "output_type": "execute_result"
    }
   ],
   "source": [
    "df.head()"
   ]
  },
  {
   "cell_type": "code",
   "execution_count": 5,
   "metadata": {},
   "outputs": [
    {
     "data": {
      "text/html": [
       "<div>\n",
       "<style scoped>\n",
       "    .dataframe tbody tr th:only-of-type {\n",
       "        vertical-align: middle;\n",
       "    }\n",
       "\n",
       "    .dataframe tbody tr th {\n",
       "        vertical-align: top;\n",
       "    }\n",
       "\n",
       "    .dataframe thead th {\n",
       "        text-align: right;\n",
       "    }\n",
       "</style>\n",
       "<table border=\"1\" class=\"dataframe\">\n",
       "  <thead>\n",
       "    <tr style=\"text-align: right;\">\n",
       "      <th></th>\n",
       "      <th>series_id</th>\n",
       "      <th>surface</th>\n",
       "      <th>base_temperature</th>\n",
       "      <th>monday_is_day_off</th>\n",
       "      <th>tuesday_is_day_off</th>\n",
       "      <th>wednesday_is_day_off</th>\n",
       "      <th>thursday_is_day_off</th>\n",
       "      <th>friday_is_day_off</th>\n",
       "      <th>saturday_is_day_off</th>\n",
       "      <th>sunday_is_day_off</th>\n",
       "    </tr>\n",
       "  </thead>\n",
       "  <tbody>\n",
       "    <tr>\n",
       "      <th>0</th>\n",
       "      <td>100003</td>\n",
       "      <td>x-large</td>\n",
       "      <td>low</td>\n",
       "      <td>False</td>\n",
       "      <td>False</td>\n",
       "      <td>False</td>\n",
       "      <td>False</td>\n",
       "      <td>False</td>\n",
       "      <td>True</td>\n",
       "      <td>True</td>\n",
       "    </tr>\n",
       "    <tr>\n",
       "      <th>1</th>\n",
       "      <td>100004</td>\n",
       "      <td>x-large</td>\n",
       "      <td>low</td>\n",
       "      <td>False</td>\n",
       "      <td>False</td>\n",
       "      <td>False</td>\n",
       "      <td>False</td>\n",
       "      <td>False</td>\n",
       "      <td>True</td>\n",
       "      <td>True</td>\n",
       "    </tr>\n",
       "    <tr>\n",
       "      <th>2</th>\n",
       "      <td>100006</td>\n",
       "      <td>x-small</td>\n",
       "      <td>low</td>\n",
       "      <td>False</td>\n",
       "      <td>False</td>\n",
       "      <td>False</td>\n",
       "      <td>False</td>\n",
       "      <td>False</td>\n",
       "      <td>True</td>\n",
       "      <td>True</td>\n",
       "    </tr>\n",
       "    <tr>\n",
       "      <th>3</th>\n",
       "      <td>100008</td>\n",
       "      <td>x-small</td>\n",
       "      <td>low</td>\n",
       "      <td>False</td>\n",
       "      <td>False</td>\n",
       "      <td>False</td>\n",
       "      <td>False</td>\n",
       "      <td>False</td>\n",
       "      <td>True</td>\n",
       "      <td>True</td>\n",
       "    </tr>\n",
       "    <tr>\n",
       "      <th>4</th>\n",
       "      <td>100010</td>\n",
       "      <td>x-small</td>\n",
       "      <td>low</td>\n",
       "      <td>False</td>\n",
       "      <td>False</td>\n",
       "      <td>False</td>\n",
       "      <td>False</td>\n",
       "      <td>False</td>\n",
       "      <td>True</td>\n",
       "      <td>True</td>\n",
       "    </tr>\n",
       "  </tbody>\n",
       "</table>\n",
       "</div>"
      ],
      "text/plain": [
       "   series_id  surface base_temperature  monday_is_day_off  tuesday_is_day_off  \\\n",
       "0     100003  x-large              low              False               False   \n",
       "1     100004  x-large              low              False               False   \n",
       "2     100006  x-small              low              False               False   \n",
       "3     100008  x-small              low              False               False   \n",
       "4     100010  x-small              low              False               False   \n",
       "\n",
       "   wednesday_is_day_off  thursday_is_day_off  friday_is_day_off  \\\n",
       "0                 False                False              False   \n",
       "1                 False                False              False   \n",
       "2                 False                False              False   \n",
       "3                 False                False              False   \n",
       "4                 False                False              False   \n",
       "\n",
       "   saturday_is_day_off  sunday_is_day_off  \n",
       "0                 True               True  \n",
       "1                 True               True  \n",
       "2                 True               True  \n",
       "3                 True               True  \n",
       "4                 True               True  "
      ]
     },
     "execution_count": 5,
     "metadata": {},
     "output_type": "execute_result"
    }
   ],
   "source": [
    "df_meta.head()"
   ]
  },
  {
   "cell_type": "markdown",
   "metadata": {},
   "source": [
    "### Data Exploration"
   ]
  },
  {
   "cell_type": "code",
   "execution_count": 6,
   "metadata": {},
   "outputs": [
    {
     "name": "stdout",
     "output_type": "stream",
     "text": [
      "0.4489591186078653\n"
     ]
    }
   ],
   "source": [
    "# Removing temperature since more than 50% of data is missing\n",
    "print((df['temperature'].isna().sum())/len(df))\n",
    "df = df.drop(['temperature'], axis = 1)"
   ]
  },
  {
   "cell_type": "code",
   "execution_count": 7,
   "metadata": {},
   "outputs": [],
   "source": [
    "# Including the year, week, day of week and hour\n",
    "df['day_of_week'] = df['timestamp'].dt.dayofweek\n",
    "df['hour'] = df['timestamp'].dt.hour\n",
    "df['week'] = df['timestamp'].dt.week\n",
    "df['year'] = df['timestamp'].dt.year\n"
   ]
  },
  {
   "cell_type": "code",
   "execution_count": 8,
   "metadata": {},
   "outputs": [],
   "source": [
    "#Extracting relevant meta data, based on data exploration and pivoting the data\n",
    "df_meta_days = df_meta.set_index('series_id').drop(['surface','base_temperature'], axis = 1)\n",
    "df_meta_days.columns = [0,1,2,3,4,5,6]\n",
    "df_workdays = df_meta_days.stack().reset_index()\n",
    "df_meta_days.head()\n",
    "df_workdays.columns = ['series_id','day_of_week','day_off']"
   ]
  },
  {
   "cell_type": "code",
   "execution_count": 9,
   "metadata": {},
   "outputs": [
    {
     "data": {
      "text/html": [
       "<div>\n",
       "<style scoped>\n",
       "    .dataframe tbody tr th:only-of-type {\n",
       "        vertical-align: middle;\n",
       "    }\n",
       "\n",
       "    .dataframe tbody tr th {\n",
       "        vertical-align: top;\n",
       "    }\n",
       "\n",
       "    .dataframe thead th {\n",
       "        text-align: right;\n",
       "    }\n",
       "</style>\n",
       "<table border=\"1\" class=\"dataframe\">\n",
       "  <thead>\n",
       "    <tr style=\"text-align: right;\">\n",
       "      <th></th>\n",
       "      <th>series_id</th>\n",
       "      <th>timestamp</th>\n",
       "      <th>consumption</th>\n",
       "      <th>day_of_week</th>\n",
       "      <th>hour</th>\n",
       "      <th>week</th>\n",
       "      <th>year</th>\n",
       "      <th>day_off</th>\n",
       "    </tr>\n",
       "  </thead>\n",
       "  <tbody>\n",
       "    <tr>\n",
       "      <th>0</th>\n",
       "      <td>103088</td>\n",
       "      <td>2014-12-24 00:00:00</td>\n",
       "      <td>101842.23340</td>\n",
       "      <td>2</td>\n",
       "      <td>0</td>\n",
       "      <td>52</td>\n",
       "      <td>2014</td>\n",
       "      <td>False</td>\n",
       "    </tr>\n",
       "    <tr>\n",
       "      <th>1</th>\n",
       "      <td>103088</td>\n",
       "      <td>2014-12-24 01:00:00</td>\n",
       "      <td>105878.04890</td>\n",
       "      <td>2</td>\n",
       "      <td>1</td>\n",
       "      <td>52</td>\n",
       "      <td>2014</td>\n",
       "      <td>False</td>\n",
       "    </tr>\n",
       "    <tr>\n",
       "      <th>2</th>\n",
       "      <td>103088</td>\n",
       "      <td>2014-12-24 02:00:00</td>\n",
       "      <td>91619.10501</td>\n",
       "      <td>2</td>\n",
       "      <td>2</td>\n",
       "      <td>52</td>\n",
       "      <td>2014</td>\n",
       "      <td>False</td>\n",
       "    </tr>\n",
       "    <tr>\n",
       "      <th>3</th>\n",
       "      <td>103088</td>\n",
       "      <td>2014-12-24 03:00:00</td>\n",
       "      <td>94473.70620</td>\n",
       "      <td>2</td>\n",
       "      <td>3</td>\n",
       "      <td>52</td>\n",
       "      <td>2014</td>\n",
       "      <td>False</td>\n",
       "    </tr>\n",
       "    <tr>\n",
       "      <th>4</th>\n",
       "      <td>103088</td>\n",
       "      <td>2014-12-24 04:00:00</td>\n",
       "      <td>96976.75553</td>\n",
       "      <td>2</td>\n",
       "      <td>4</td>\n",
       "      <td>52</td>\n",
       "      <td>2014</td>\n",
       "      <td>False</td>\n",
       "    </tr>\n",
       "  </tbody>\n",
       "</table>\n",
       "</div>"
      ],
      "text/plain": [
       "   series_id           timestamp   consumption  day_of_week  hour  week  year  \\\n",
       "0     103088 2014-12-24 00:00:00  101842.23340            2     0    52  2014   \n",
       "1     103088 2014-12-24 01:00:00  105878.04890            2     1    52  2014   \n",
       "2     103088 2014-12-24 02:00:00   91619.10501            2     2    52  2014   \n",
       "3     103088 2014-12-24 03:00:00   94473.70620            2     3    52  2014   \n",
       "4     103088 2014-12-24 04:00:00   96976.75553            2     4    52  2014   \n",
       "\n",
       "   day_off  \n",
       "0    False  \n",
       "1    False  \n",
       "2    False  \n",
       "3    False  \n",
       "4    False  "
      ]
     },
     "execution_count": 9,
     "metadata": {},
     "output_type": "execute_result"
    }
   ],
   "source": [
    "# Merging the relevant metadata to the consumption data\n",
    "df = pd.merge(df, df_workdays, how = 'left', left_on = ['series_id', 'day_of_week'], right_on = ['series_id', 'day_of_week'])\n",
    "df.head()"
   ]
  },
  {
   "cell_type": "code",
   "execution_count": 10,
   "metadata": {},
   "outputs": [],
   "source": [
    "# Identifying the average consumption of the building's by day of week, and pivoting the data by day_of_week\n",
    "df_daily = pd.DataFrame(df.groupby(['series_id','day_of_week'])['consumption'].mean()).reset_index()\n",
    "df_daily = df_daily.pivot(index = 'series_id', columns = 'day_of_week', values = ['consumption'])"
   ]
  },
  {
   "cell_type": "code",
   "execution_count": 11,
   "metadata": {},
   "outputs": [
    {
     "data": {
      "text/html": [
       "<div>\n",
       "<style scoped>\n",
       "    .dataframe tbody tr th:only-of-type {\n",
       "        vertical-align: middle;\n",
       "    }\n",
       "\n",
       "    .dataframe tbody tr th {\n",
       "        vertical-align: top;\n",
       "    }\n",
       "\n",
       "    .dataframe thead tr th {\n",
       "        text-align: left;\n",
       "    }\n",
       "\n",
       "    .dataframe thead tr:last-of-type th {\n",
       "        text-align: right;\n",
       "    }\n",
       "</style>\n",
       "<table border=\"1\" class=\"dataframe\">\n",
       "  <thead>\n",
       "    <tr>\n",
       "      <th></th>\n",
       "      <th colspan=\"7\" halign=\"left\">consumption</th>\n",
       "    </tr>\n",
       "    <tr>\n",
       "      <th>day_of_week</th>\n",
       "      <th>0</th>\n",
       "      <th>1</th>\n",
       "      <th>2</th>\n",
       "      <th>3</th>\n",
       "      <th>4</th>\n",
       "      <th>5</th>\n",
       "      <th>6</th>\n",
       "    </tr>\n",
       "    <tr>\n",
       "      <th>series_id</th>\n",
       "      <th></th>\n",
       "      <th></th>\n",
       "      <th></th>\n",
       "      <th></th>\n",
       "      <th></th>\n",
       "      <th></th>\n",
       "      <th></th>\n",
       "    </tr>\n",
       "  </thead>\n",
       "  <tbody>\n",
       "    <tr>\n",
       "      <th>100003</th>\n",
       "      <td>0.146814</td>\n",
       "      <td>0.150058</td>\n",
       "      <td>0.148886</td>\n",
       "      <td>0.149828</td>\n",
       "      <td>0.148133</td>\n",
       "      <td>0.129318</td>\n",
       "      <td>0.126963</td>\n",
       "    </tr>\n",
       "    <tr>\n",
       "      <th>100006</th>\n",
       "      <td>0.144956</td>\n",
       "      <td>0.141678</td>\n",
       "      <td>0.139698</td>\n",
       "      <td>0.149681</td>\n",
       "      <td>0.153969</td>\n",
       "      <td>0.151258</td>\n",
       "      <td>0.118761</td>\n",
       "    </tr>\n",
       "    <tr>\n",
       "      <th>100008</th>\n",
       "      <td>0.144554</td>\n",
       "      <td>0.157239</td>\n",
       "      <td>0.139609</td>\n",
       "      <td>0.138358</td>\n",
       "      <td>0.141217</td>\n",
       "      <td>0.157827</td>\n",
       "      <td>0.121197</td>\n",
       "    </tr>\n",
       "    <tr>\n",
       "      <th>100017</th>\n",
       "      <td>0.149439</td>\n",
       "      <td>0.149846</td>\n",
       "      <td>0.149312</td>\n",
       "      <td>0.150003</td>\n",
       "      <td>0.146588</td>\n",
       "      <td>0.130997</td>\n",
       "      <td>0.123816</td>\n",
       "    </tr>\n",
       "    <tr>\n",
       "      <th>100021</th>\n",
       "      <td>0.140478</td>\n",
       "      <td>0.136342</td>\n",
       "      <td>0.149932</td>\n",
       "      <td>0.152784</td>\n",
       "      <td>0.155363</td>\n",
       "      <td>0.128690</td>\n",
       "      <td>0.136411</td>\n",
       "    </tr>\n",
       "  </tbody>\n",
       "</table>\n",
       "</div>"
      ],
      "text/plain": [
       "            consumption                                                    \\\n",
       "day_of_week           0         1         2         3         4         5   \n",
       "series_id                                                                   \n",
       "100003         0.146814  0.150058  0.148886  0.149828  0.148133  0.129318   \n",
       "100006         0.144956  0.141678  0.139698  0.149681  0.153969  0.151258   \n",
       "100008         0.144554  0.157239  0.139609  0.138358  0.141217  0.157827   \n",
       "100017         0.149439  0.149846  0.149312  0.150003  0.146588  0.130997   \n",
       "100021         0.140478  0.136342  0.149932  0.152784  0.155363  0.128690   \n",
       "\n",
       "                       \n",
       "day_of_week         6  \n",
       "series_id              \n",
       "100003       0.126963  \n",
       "100006       0.118761  \n",
       "100008       0.121197  \n",
       "100017       0.123816  \n",
       "100021       0.136411  "
      ]
     },
     "execution_count": 11,
     "metadata": {},
     "output_type": "execute_result"
    }
   ],
   "source": [
    "#Normalizing across rows to stage the data for clustering\n",
    "\n",
    "df_daily_norm = df_daily.div(df_daily.sum(axis = 1), axis = 0)\n",
    "df_daily_norm.head()"
   ]
  },
  {
   "cell_type": "code",
   "execution_count": 12,
   "metadata": {},
   "outputs": [
    {
     "name": "stdout",
     "output_type": "stream",
     "text": [
      "For number of clusters=2, The Silhouette Coefficient is 0.4555946097237064\n",
      "For number of clusters=3, The Silhouette Coefficient is 0.3814733644476161\n",
      "For number of clusters=4, The Silhouette Coefficient is 0.41337016076982835\n",
      "For number of clusters=5, The Silhouette Coefficient is 0.39275634088246797\n",
      "For number of clusters=6, The Silhouette Coefficient is 0.30729080969088574\n",
      "For number of clusters=7, The Silhouette Coefficient is 0.3756176775687794\n",
      "For number of clusters=8, The Silhouette Coefficient is 0.3328126779743287\n",
      "For number of clusters=9, The Silhouette Coefficient is 0.282792226007445\n",
      "For number of clusters=10, The Silhouette Coefficient is 0.2892834969143522\n"
     ]
    }
   ],
   "source": [
    "# Running K-Means clustering of the dataset and using the Silhouette Score to identify that the best clustering happens at n_clusters=2\n",
    "for i in range(2,11):\n",
    "    model = KMeans(n_clusters = i, random_state = 101).fit(df_daily_norm)\n",
    "    label = model.labels_\n",
    "    sil = silhouette_score(df_daily_norm, label)\n",
    "    print(f\"For number of clusters={i}, The Silhouette Coefficient is {sil}\")"
   ]
  },
  {
   "cell_type": "code",
   "execution_count": 13,
   "metadata": {},
   "outputs": [],
   "source": [
    "# Assigning the clusters to each of the buildings\n",
    "model = KMeans(n_clusters = 2,random_state=101).fit(df_daily_norm)\n",
    "y_kmeans = model.predict(df_daily_norm)\n",
    "y_means = list(y_kmeans)\n",
    "df_daily_norm['cluster'] = y_means"
   ]
  },
  {
   "cell_type": "code",
   "execution_count": 14,
   "metadata": {},
   "outputs": [
    {
     "name": "stdout",
     "output_type": "stream",
     "text": [
      "cluster\n",
      "0    451\n",
      "1    307\n",
      "Name: cluster, dtype: int64\n"
     ]
    }
   ],
   "source": [
    "# Summarizing the cluster counts\n",
    "cluster_count_summary = df_daily_norm.groupby(['cluster'])['cluster'].count()\n",
    "print(cluster_count_summary)       \n",
    "    "
   ]
  },
  {
   "cell_type": "code",
   "execution_count": 15,
   "metadata": {},
   "outputs": [
    {
     "data": {
      "text/plain": [
       "<matplotlib.axes._subplots.AxesSubplot at 0x7f0754867358>"
      ]
     },
     "execution_count": 15,
     "metadata": {},
     "output_type": "execute_result"
    },
    {
     "data": {
      "image/png": "[encoded data removed]",
      "text/plain": [
       "<Figure size 432x288 with 1 Axes>"
      ]
     },
     "metadata": {
      "needs_background": "light"
     },
     "output_type": "display_data"
    }
   ],
   "source": [
    "#Visualizing the behavior of each cluster\n",
    "\n",
    "cluster_count_summary = df_daily_norm.groupby(['cluster']).mean()\n",
    "cluster_count_summary.T.plot()"
   ]
  },
  {
   "cell_type": "markdown",
   "metadata": {},
   "source": [
    "### Data Staging"
   ]
  },
  {
   "cell_type": "code",
   "execution_count": 16,
   "metadata": {},
   "outputs": [
    {
     "data": {
      "text/html": [
       "<div>\n",
       "<style scoped>\n",
       "    .dataframe tbody tr th:only-of-type {\n",
       "        vertical-align: middle;\n",
       "    }\n",
       "\n",
       "    .dataframe tbody tr th {\n",
       "        vertical-align: top;\n",
       "    }\n",
       "\n",
       "    .dataframe thead th {\n",
       "        text-align: right;\n",
       "    }\n",
       "</style>\n",
       "<table border=\"1\" class=\"dataframe\">\n",
       "  <thead>\n",
       "    <tr style=\"text-align: right;\">\n",
       "      <th></th>\n",
       "      <th></th>\n",
       "      <th></th>\n",
       "      <th></th>\n",
       "      <th>consumption</th>\n",
       "    </tr>\n",
       "    <tr>\n",
       "      <th>series_id</th>\n",
       "      <th>year</th>\n",
       "      <th>week</th>\n",
       "      <th>day_of_week</th>\n",
       "      <th></th>\n",
       "    </tr>\n",
       "  </thead>\n",
       "  <tbody>\n",
       "    <tr>\n",
       "      <th rowspan=\"5\" valign=\"top\">100003</th>\n",
       "      <th rowspan=\"5\" valign=\"top\">2017</th>\n",
       "      <th rowspan=\"5\" valign=\"top\">43</th>\n",
       "      <th>1</th>\n",
       "      <td>5.323794e+06</td>\n",
       "    </tr>\n",
       "    <tr>\n",
       "      <th>2</th>\n",
       "      <td>5.311667e+06</td>\n",
       "    </tr>\n",
       "    <tr>\n",
       "      <th>3</th>\n",
       "      <td>5.323794e+06</td>\n",
       "    </tr>\n",
       "    <tr>\n",
       "      <th>4</th>\n",
       "      <td>5.363207e+06</td>\n",
       "    </tr>\n",
       "    <tr>\n",
       "      <th>5</th>\n",
       "      <td>4.684090e+06</td>\n",
       "    </tr>\n",
       "  </tbody>\n",
       "</table>\n",
       "</div>"
      ],
      "text/plain": [
       "                                  consumption\n",
       "series_id year week day_of_week              \n",
       "100003    2017 43   1            5.323794e+06\n",
       "                    2            5.311667e+06\n",
       "                    3            5.323794e+06\n",
       "                    4            5.363207e+06\n",
       "                    5            4.684090e+06"
      ]
     },
     "execution_count": 16,
     "metadata": {},
     "output_type": "execute_result"
    }
   ],
   "source": [
    "df = df.drop(['timestamp'], axis = 1)\n",
    "df_temp = df.reset_index()\n",
    "df_temp = df_temp.groupby(['series_id','year', 'week', 'day_of_week']).sum()\n",
    "df_temp = df_temp.drop(['index', 'hour','day_off'], axis = 1)\n",
    "df_temp.head()"
   ]
  },
  {
   "cell_type": "code",
   "execution_count": 17,
   "metadata": {},
   "outputs": [],
   "source": [
    "df_staged = pd.pivot_table(df_temp, index = ['series_id','year','week'], columns = ['day_of_week'],values = 'consumption')"
   ]
  },
  {
   "cell_type": "code",
   "execution_count": 18,
   "metadata": {},
   "outputs": [
    {
     "data": {
      "text/html": [
       "<div>\n",
       "<style scoped>\n",
       "    .dataframe tbody tr th:only-of-type {\n",
       "        vertical-align: middle;\n",
       "    }\n",
       "\n",
       "    .dataframe tbody tr th {\n",
       "        vertical-align: top;\n",
       "    }\n",
       "\n",
       "    .dataframe thead th {\n",
       "        text-align: right;\n",
       "    }\n",
       "</style>\n",
       "<table border=\"1\" class=\"dataframe\">\n",
       "  <thead>\n",
       "    <tr style=\"text-align: right;\">\n",
       "      <th></th>\n",
       "      <th></th>\n",
       "      <th>day_of_week</th>\n",
       "      <th>0</th>\n",
       "      <th>1</th>\n",
       "      <th>2</th>\n",
       "      <th>3</th>\n",
       "      <th>4</th>\n",
       "      <th>5</th>\n",
       "      <th>6</th>\n",
       "    </tr>\n",
       "    <tr>\n",
       "      <th>series_id</th>\n",
       "      <th>year</th>\n",
       "      <th>week</th>\n",
       "      <th></th>\n",
       "      <th></th>\n",
       "      <th></th>\n",
       "      <th></th>\n",
       "      <th></th>\n",
       "      <th></th>\n",
       "      <th></th>\n",
       "    </tr>\n",
       "  </thead>\n",
       "  <tbody>\n",
       "    <tr>\n",
       "      <th rowspan=\"5\" valign=\"top\">100003</th>\n",
       "      <th rowspan=\"5\" valign=\"top\">2017</th>\n",
       "      <th>43</th>\n",
       "      <td>NaN</td>\n",
       "      <td>5.323794e+06</td>\n",
       "      <td>5.311667e+06</td>\n",
       "      <td>5.323794e+06</td>\n",
       "      <td>5.363207e+06</td>\n",
       "      <td>4.684090e+06</td>\n",
       "      <td>4.579494e+06</td>\n",
       "    </tr>\n",
       "    <tr>\n",
       "      <th>44</th>\n",
       "      <td>5.338953e+06</td>\n",
       "      <td>5.548145e+06</td>\n",
       "      <td>5.435970e+06</td>\n",
       "      <td>5.420811e+06</td>\n",
       "      <td>5.317731e+06</td>\n",
       "      <td>4.756853e+06</td>\n",
       "      <td>4.638613e+06</td>\n",
       "    </tr>\n",
       "    <tr>\n",
       "      <th>45</th>\n",
       "      <td>5.260127e+06</td>\n",
       "      <td>5.423843e+06</td>\n",
       "      <td>5.387461e+06</td>\n",
       "      <td>5.414747e+06</td>\n",
       "      <td>5.366239e+06</td>\n",
       "      <td>4.599200e+06</td>\n",
       "      <td>4.556756e+06</td>\n",
       "    </tr>\n",
       "    <tr>\n",
       "      <th>46</th>\n",
       "      <td>5.375334e+06</td>\n",
       "      <td>5.442033e+06</td>\n",
       "      <td>5.432938e+06</td>\n",
       "      <td>5.545114e+06</td>\n",
       "      <td>5.411716e+06</td>\n",
       "      <td>4.693185e+06</td>\n",
       "      <td>4.617391e+06</td>\n",
       "    </tr>\n",
       "    <tr>\n",
       "      <th>47</th>\n",
       "      <td>5.293476e+06</td>\n",
       "      <td>NaN</td>\n",
       "      <td>NaN</td>\n",
       "      <td>NaN</td>\n",
       "      <td>NaN</td>\n",
       "      <td>NaN</td>\n",
       "      <td>NaN</td>\n",
       "    </tr>\n",
       "  </tbody>\n",
       "</table>\n",
       "</div>"
      ],
      "text/plain": [
       "day_of_week                     0             1             2             3  \\\n",
       "series_id year week                                                           \n",
       "100003    2017 43             NaN  5.323794e+06  5.311667e+06  5.323794e+06   \n",
       "               44    5.338953e+06  5.548145e+06  5.435970e+06  5.420811e+06   \n",
       "               45    5.260127e+06  5.423843e+06  5.387461e+06  5.414747e+06   \n",
       "               46    5.375334e+06  5.442033e+06  5.432938e+06  5.545114e+06   \n",
       "               47    5.293476e+06           NaN           NaN           NaN   \n",
       "\n",
       "day_of_week                     4             5             6  \n",
       "series_id year week                                            \n",
       "100003    2017 43    5.363207e+06  4.684090e+06  4.579494e+06  \n",
       "               44    5.317731e+06  4.756853e+06  4.638613e+06  \n",
       "               45    5.366239e+06  4.599200e+06  4.556756e+06  \n",
       "               46    5.411716e+06  4.693185e+06  4.617391e+06  \n",
       "               47             NaN           NaN           NaN  "
      ]
     },
     "execution_count": 18,
     "metadata": {},
     "output_type": "execute_result"
    }
   ],
   "source": [
    "df_staged.head()"
   ]
  },
  {
   "cell_type": "code",
   "execution_count": 19,
   "metadata": {},
   "outputs": [],
   "source": [
    "# removing all rows which contain NaNs\n",
    "df_staged = df_staged.dropna()"
   ]
  },
  {
   "cell_type": "code",
   "execution_count": 20,
   "metadata": {},
   "outputs": [],
   "source": [
    "#Train the model for the buildings belonging to cluster '1', i.e. the buildings that function for 7 days of the week \n",
    "df_daily_norm = df_daily_norm.reset_index()\n",
    "cluster_0 = df_daily_norm['series_id'][df_daily_norm['cluster'] == 1]\n",
    "df_0 = df_staged.reset_index()\n",
    "df_0 = df_0[df_0['series_id'].isin(cluster_0)] "
   ]
  },
  {
   "cell_type": "code",
   "execution_count": 21,
   "metadata": {},
   "outputs": [
    {
     "data": {
      "text/html": [
       "<div>\n",
       "<style scoped>\n",
       "    .dataframe tbody tr th:only-of-type {\n",
       "        vertical-align: middle;\n",
       "    }\n",
       "\n",
       "    .dataframe tbody tr th {\n",
       "        vertical-align: top;\n",
       "    }\n",
       "\n",
       "    .dataframe thead th {\n",
       "        text-align: right;\n",
       "    }\n",
       "</style>\n",
       "<table border=\"1\" class=\"dataframe\">\n",
       "  <thead>\n",
       "    <tr style=\"text-align: right;\">\n",
       "      <th>day_of_week</th>\n",
       "      <th>series_id</th>\n",
       "      <th>year</th>\n",
       "      <th>week</th>\n",
       "      <th>0</th>\n",
       "      <th>1</th>\n",
       "      <th>2</th>\n",
       "      <th>3</th>\n",
       "      <th>4</th>\n",
       "      <th>5</th>\n",
       "      <th>6</th>\n",
       "      <th>counter</th>\n",
       "    </tr>\n",
       "  </thead>\n",
       "  <tbody>\n",
       "    <tr>\n",
       "      <th>17</th>\n",
       "      <td>100027</td>\n",
       "      <td>2017</td>\n",
       "      <td>30</td>\n",
       "      <td>2.135886e+05</td>\n",
       "      <td>2.031637e+05</td>\n",
       "      <td>1.883225e+05</td>\n",
       "      <td>1.929596e+05</td>\n",
       "      <td>2.030940e+05</td>\n",
       "      <td>2.053719e+05</td>\n",
       "      <td>2.044305e+04</td>\n",
       "      <td>0.0</td>\n",
       "    </tr>\n",
       "    <tr>\n",
       "      <th>18</th>\n",
       "      <td>100027</td>\n",
       "      <td>2017</td>\n",
       "      <td>31</td>\n",
       "      <td>2.234092e+05</td>\n",
       "      <td>2.421206e+05</td>\n",
       "      <td>2.236881e+05</td>\n",
       "      <td>2.314981e+05</td>\n",
       "      <td>2.486173e+05</td>\n",
       "      <td>2.153784e+05</td>\n",
       "      <td>2.081496e+04</td>\n",
       "      <td>1.0</td>\n",
       "    </tr>\n",
       "    <tr>\n",
       "      <th>19</th>\n",
       "      <td>100027</td>\n",
       "      <td>2017</td>\n",
       "      <td>32</td>\n",
       "      <td>2.599371e+05</td>\n",
       "      <td>2.614363e+05</td>\n",
       "      <td>2.396716e+05</td>\n",
       "      <td>2.405633e+05</td>\n",
       "      <td>2.510928e+05</td>\n",
       "      <td>2.179701e+05</td>\n",
       "      <td>2.064063e+04</td>\n",
       "      <td>2.0</td>\n",
       "    </tr>\n",
       "    <tr>\n",
       "      <th>29</th>\n",
       "      <td>100040</td>\n",
       "      <td>2017</td>\n",
       "      <td>46</td>\n",
       "      <td>1.012880e+07</td>\n",
       "      <td>1.961299e+07</td>\n",
       "      <td>2.410178e+07</td>\n",
       "      <td>2.510495e+07</td>\n",
       "      <td>2.250305e+07</td>\n",
       "      <td>4.544589e+06</td>\n",
       "      <td>4.704401e+06</td>\n",
       "      <td>0.0</td>\n",
       "    </tr>\n",
       "    <tr>\n",
       "      <th>30</th>\n",
       "      <td>100040</td>\n",
       "      <td>2017</td>\n",
       "      <td>47</td>\n",
       "      <td>9.141786e+06</td>\n",
       "      <td>1.789654e+07</td>\n",
       "      <td>2.205407e+07</td>\n",
       "      <td>2.198051e+07</td>\n",
       "      <td>1.755774e+07</td>\n",
       "      <td>4.284556e+06</td>\n",
       "      <td>4.545455e+06</td>\n",
       "      <td>1.0</td>\n",
       "    </tr>\n",
       "  </tbody>\n",
       "</table>\n",
       "</div>"
      ],
      "text/plain": [
       "day_of_week  series_id  year  week             0             1             2  \\\n",
       "17              100027  2017    30  2.135886e+05  2.031637e+05  1.883225e+05   \n",
       "18              100027  2017    31  2.234092e+05  2.421206e+05  2.236881e+05   \n",
       "19              100027  2017    32  2.599371e+05  2.614363e+05  2.396716e+05   \n",
       "29              100040  2017    46  1.012880e+07  1.961299e+07  2.410178e+07   \n",
       "30              100040  2017    47  9.141786e+06  1.789654e+07  2.205407e+07   \n",
       "\n",
       "day_of_week             3             4             5             6  counter  \n",
       "17           1.929596e+05  2.030940e+05  2.053719e+05  2.044305e+04      0.0  \n",
       "18           2.314981e+05  2.486173e+05  2.153784e+05  2.081496e+04      1.0  \n",
       "19           2.405633e+05  2.510928e+05  2.179701e+05  2.064063e+04      2.0  \n",
       "29           2.510495e+07  2.250305e+07  4.544589e+06  4.704401e+06      0.0  \n",
       "30           2.198051e+07  1.755774e+07  4.284556e+06  4.545455e+06      1.0  "
      ]
     },
     "execution_count": 21,
     "metadata": {},
     "output_type": "execute_result"
    }
   ],
   "source": [
    "#initializing a counter to give more information about number of weeks of data for a particular building\n",
    "\n",
    "df_0['counter'] = 0\n",
    "ct = np.zeros(df_0.shape[0]) # temp array for counter for no of weeks for a particular buidling\n",
    "for i in range(1,df_0.shape[0]):\n",
    "    if df_0['series_id'].iloc[i-1] == df_0['series_id'].iloc[i]:\n",
    "        ct[i] = ct[i-1] + 1\n",
    "    else:\n",
    "        ct[i] = 0\n",
    "        \n",
    "df_0['counter'] = ct\n",
    "df_0.head()"
   ]
  },
  {
   "cell_type": "code",
   "execution_count": 22,
   "metadata": {},
   "outputs": [
    {
     "data": {
      "text/html": [
       "<div>\n",
       "<style scoped>\n",
       "    .dataframe tbody tr th:only-of-type {\n",
       "        vertical-align: middle;\n",
       "    }\n",
       "\n",
       "    .dataframe tbody tr th {\n",
       "        vertical-align: top;\n",
       "    }\n",
       "\n",
       "    .dataframe thead th {\n",
       "        text-align: right;\n",
       "    }\n",
       "</style>\n",
       "<table border=\"1\" class=\"dataframe\">\n",
       "  <thead>\n",
       "    <tr style=\"text-align: right;\">\n",
       "      <th>day_of_week</th>\n",
       "      <th>series_id</th>\n",
       "      <th>year</th>\n",
       "      <th>week</th>\n",
       "      <th>0</th>\n",
       "      <th>1</th>\n",
       "      <th>2</th>\n",
       "      <th>3</th>\n",
       "      <th>4</th>\n",
       "      <th>5</th>\n",
       "      <th>6</th>\n",
       "      <th>counter</th>\n",
       "      <th>no_third</th>\n",
       "    </tr>\n",
       "  </thead>\n",
       "  <tbody>\n",
       "    <tr>\n",
       "      <th>17</th>\n",
       "      <td>100027</td>\n",
       "      <td>2017</td>\n",
       "      <td>30</td>\n",
       "      <td>2.135886e+05</td>\n",
       "      <td>2.031637e+05</td>\n",
       "      <td>1.883225e+05</td>\n",
       "      <td>1.929596e+05</td>\n",
       "      <td>2.030940e+05</td>\n",
       "      <td>2.053719e+05</td>\n",
       "      <td>2.044305e+04</td>\n",
       "      <td>0.0</td>\n",
       "      <td>0.0</td>\n",
       "    </tr>\n",
       "    <tr>\n",
       "      <th>18</th>\n",
       "      <td>100027</td>\n",
       "      <td>2017</td>\n",
       "      <td>31</td>\n",
       "      <td>2.234092e+05</td>\n",
       "      <td>2.421206e+05</td>\n",
       "      <td>2.236881e+05</td>\n",
       "      <td>2.314981e+05</td>\n",
       "      <td>2.486173e+05</td>\n",
       "      <td>2.153784e+05</td>\n",
       "      <td>2.081496e+04</td>\n",
       "      <td>1.0</td>\n",
       "      <td>0.0</td>\n",
       "    </tr>\n",
       "    <tr>\n",
       "      <th>19</th>\n",
       "      <td>100027</td>\n",
       "      <td>2017</td>\n",
       "      <td>32</td>\n",
       "      <td>2.599371e+05</td>\n",
       "      <td>2.614363e+05</td>\n",
       "      <td>2.396716e+05</td>\n",
       "      <td>2.405633e+05</td>\n",
       "      <td>2.510928e+05</td>\n",
       "      <td>2.179701e+05</td>\n",
       "      <td>2.064063e+04</td>\n",
       "      <td>2.0</td>\n",
       "      <td>0.0</td>\n",
       "    </tr>\n",
       "    <tr>\n",
       "      <th>29</th>\n",
       "      <td>100040</td>\n",
       "      <td>2017</td>\n",
       "      <td>46</td>\n",
       "      <td>1.012880e+07</td>\n",
       "      <td>1.961299e+07</td>\n",
       "      <td>2.410178e+07</td>\n",
       "      <td>2.510495e+07</td>\n",
       "      <td>2.250305e+07</td>\n",
       "      <td>4.544589e+06</td>\n",
       "      <td>4.704401e+06</td>\n",
       "      <td>0.0</td>\n",
       "      <td>0.0</td>\n",
       "    </tr>\n",
       "    <tr>\n",
       "      <th>30</th>\n",
       "      <td>100040</td>\n",
       "      <td>2017</td>\n",
       "      <td>47</td>\n",
       "      <td>9.141786e+06</td>\n",
       "      <td>1.789654e+07</td>\n",
       "      <td>2.205407e+07</td>\n",
       "      <td>2.198051e+07</td>\n",
       "      <td>1.755774e+07</td>\n",
       "      <td>4.284556e+06</td>\n",
       "      <td>4.545455e+06</td>\n",
       "      <td>1.0</td>\n",
       "      <td>0.0</td>\n",
       "    </tr>\n",
       "  </tbody>\n",
       "</table>\n",
       "</div>"
      ],
      "text/plain": [
       "day_of_week  series_id  year  week             0             1             2  \\\n",
       "17              100027  2017    30  2.135886e+05  2.031637e+05  1.883225e+05   \n",
       "18              100027  2017    31  2.234092e+05  2.421206e+05  2.236881e+05   \n",
       "19              100027  2017    32  2.599371e+05  2.614363e+05  2.396716e+05   \n",
       "29              100040  2017    46  1.012880e+07  1.961299e+07  2.410178e+07   \n",
       "30              100040  2017    47  9.141786e+06  1.789654e+07  2.205407e+07   \n",
       "\n",
       "day_of_week             3             4             5             6  counter  \\\n",
       "17           1.929596e+05  2.030940e+05  2.053719e+05  2.044305e+04      0.0   \n",
       "18           2.314981e+05  2.486173e+05  2.153784e+05  2.081496e+04      1.0   \n",
       "19           2.405633e+05  2.510928e+05  2.179701e+05  2.064063e+04      2.0   \n",
       "29           2.510495e+07  2.250305e+07  4.544589e+06  4.704401e+06      0.0   \n",
       "30           2.198051e+07  1.755774e+07  4.284556e+06  4.545455e+06      1.0   \n",
       "\n",
       "day_of_week  no_third  \n",
       "17                0.0  \n",
       "18                0.0  \n",
       "19                0.0  \n",
       "29                0.0  \n",
       "30                0.0  "
      ]
     },
     "execution_count": 22,
     "metadata": {},
     "output_type": "execute_result"
    }
   ],
   "source": [
    "#identifying those buildings for which we have two weeks of data, but not third week of data\n",
    "\n",
    "ct1 = np.zeros(df_0.shape[0]) # second week yes, third week no\n",
    "for i in range(1,df_0.shape[0]-1):\n",
    "    if df_0['counter'].iloc[i] == 1 and df_0['counter'].iloc[i+1] == 0: #no data there for third week\n",
    "        ct1[i] = 1\n",
    "        ct1[i-1] = 1\n",
    "df_0['no_third'] = ct1\n",
    "\n",
    "df_no_third = pd.DataFrame(columns = df_0.columns)\n",
    "df_no_third = df_no_third.append(df_0[df_0['no_third'] == 1], ignore_index = True)\n",
    "\n",
    "df_0 = df_0[df_0['no_third'] == 0] # dropping those buildings who dont contain values for third week\n",
    "df_0.head()"
   ]
  },
  {
   "cell_type": "code",
   "execution_count": 23,
   "metadata": {},
   "outputs": [],
   "source": [
    "#creating two categories of train data, depending on the consumption data availability over the weeks\n",
    "df_train_1 = df_0[df_0['counter'] == 0 ] # this dataset contains data only for first week\n",
    "df_train_2 = df_0[df_0['counter'] == 1] # dataset for second week"
   ]
  },
  {
   "cell_type": "code",
   "execution_count": 24,
   "metadata": {
    "scrolled": true
   },
   "outputs": [
    {
     "name": "stderr",
     "output_type": "stream",
     "text": [
      "/srv/app/venv/lib/python3.6/site-packages/ipykernel_launcher.py:3: SettingWithCopyWarning: \n",
      "A value is trying to be set on a copy of a slice from a DataFrame.\n",
      "Try using .loc[row_indexer,col_indexer] = value instead\n",
      "\n",
      "See the caveats in the documentation: http://pandas.pydata.org/pandas-docs/stable/indexing.html#indexing-view-versus-copy\n",
      "  This is separate from the ipykernel package so we can avoid doing imports until\n",
      "/srv/app/venv/lib/python3.6/site-packages/ipykernel_launcher.py:4: SettingWithCopyWarning: \n",
      "A value is trying to be set on a copy of a slice from a DataFrame.\n",
      "Try using .loc[row_indexer,col_indexer] = value instead\n",
      "\n",
      "See the caveats in the documentation: http://pandas.pydata.org/pandas-docs/stable/indexing.html#indexing-view-versus-copy\n",
      "  after removing the cwd from sys.path.\n"
     ]
    },
    {
     "data": {
      "text/html": [
       "<div>\n",
       "<style scoped>\n",
       "    .dataframe tbody tr th:only-of-type {\n",
       "        vertical-align: middle;\n",
       "    }\n",
       "\n",
       "    .dataframe tbody tr th {\n",
       "        vertical-align: top;\n",
       "    }\n",
       "\n",
       "    .dataframe thead th {\n",
       "        text-align: right;\n",
       "    }\n",
       "</style>\n",
       "<table border=\"1\" class=\"dataframe\">\n",
       "  <thead>\n",
       "    <tr style=\"text-align: right;\">\n",
       "      <th>day_of_week</th>\n",
       "      <th>series_id</th>\n",
       "      <th>year</th>\n",
       "      <th>week</th>\n",
       "      <th>0</th>\n",
       "      <th>1</th>\n",
       "      <th>2</th>\n",
       "      <th>3</th>\n",
       "      <th>4</th>\n",
       "      <th>5</th>\n",
       "      <th>6</th>\n",
       "      <th>counter</th>\n",
       "      <th>no_third</th>\n",
       "      <th>y_monday</th>\n",
       "      <th>y_tuesday</th>\n",
       "      <th>y_wednesday</th>\n",
       "      <th>y_thursday</th>\n",
       "      <th>y_friday</th>\n",
       "      <th>y_saturday</th>\n",
       "      <th>y_sunday</th>\n",
       "    </tr>\n",
       "  </thead>\n",
       "  <tbody>\n",
       "    <tr>\n",
       "      <th>18</th>\n",
       "      <td>100027</td>\n",
       "      <td>2017</td>\n",
       "      <td>31</td>\n",
       "      <td>2.234092e+05</td>\n",
       "      <td>2.421206e+05</td>\n",
       "      <td>2.236881e+05</td>\n",
       "      <td>2.314981e+05</td>\n",
       "      <td>2.486173e+05</td>\n",
       "      <td>2.153784e+05</td>\n",
       "      <td>2.081496e+04</td>\n",
       "      <td>1.0</td>\n",
       "      <td>0.0</td>\n",
       "      <td>2.599371e+05</td>\n",
       "      <td>2.614363e+05</td>\n",
       "      <td>2.396716e+05</td>\n",
       "      <td>2.405633e+05</td>\n",
       "      <td>2.510928e+05</td>\n",
       "      <td>2.179701e+05</td>\n",
       "      <td>2.064063e+04</td>\n",
       "    </tr>\n",
       "    <tr>\n",
       "      <th>30</th>\n",
       "      <td>100040</td>\n",
       "      <td>2017</td>\n",
       "      <td>47</td>\n",
       "      <td>9.141786e+06</td>\n",
       "      <td>1.789654e+07</td>\n",
       "      <td>2.205407e+07</td>\n",
       "      <td>2.198051e+07</td>\n",
       "      <td>1.755774e+07</td>\n",
       "      <td>4.284556e+06</td>\n",
       "      <td>4.545455e+06</td>\n",
       "      <td>1.0</td>\n",
       "      <td>0.0</td>\n",
       "      <td>9.965927e+06</td>\n",
       "      <td>1.851240e+07</td>\n",
       "      <td>2.099266e+07</td>\n",
       "      <td>2.279996e+07</td>\n",
       "      <td>1.798809e+07</td>\n",
       "      <td>4.500479e+06</td>\n",
       "      <td>4.960266e+06</td>\n",
       "    </tr>\n",
       "    <tr>\n",
       "      <th>46</th>\n",
       "      <td>100053</td>\n",
       "      <td>2014</td>\n",
       "      <td>49</td>\n",
       "      <td>2.580721e+06</td>\n",
       "      <td>2.527722e+06</td>\n",
       "      <td>2.228609e+06</td>\n",
       "      <td>2.285569e+06</td>\n",
       "      <td>2.526073e+06</td>\n",
       "      <td>1.354144e+06</td>\n",
       "      <td>1.248819e+06</td>\n",
       "      <td>1.0</td>\n",
       "      <td>0.0</td>\n",
       "      <td>1.098561e+06</td>\n",
       "      <td>2.110248e+06</td>\n",
       "      <td>2.018555e+06</td>\n",
       "      <td>2.041319e+06</td>\n",
       "      <td>2.057817e+06</td>\n",
       "      <td>1.109283e+06</td>\n",
       "      <td>7.726233e+05</td>\n",
       "    </tr>\n",
       "    <tr>\n",
       "      <th>52</th>\n",
       "      <td>100064</td>\n",
       "      <td>2017</td>\n",
       "      <td>33</td>\n",
       "      <td>3.508516e+06</td>\n",
       "      <td>3.610174e+06</td>\n",
       "      <td>3.430317e+06</td>\n",
       "      <td>3.659700e+06</td>\n",
       "      <td>3.818704e+06</td>\n",
       "      <td>2.739562e+06</td>\n",
       "      <td>2.226057e+06</td>\n",
       "      <td>1.0</td>\n",
       "      <td>0.0</td>\n",
       "      <td>3.206147e+06</td>\n",
       "      <td>3.161835e+06</td>\n",
       "      <td>3.247853e+06</td>\n",
       "      <td>3.498089e+06</td>\n",
       "      <td>3.922969e+06</td>\n",
       "      <td>3.002831e+06</td>\n",
       "      <td>2.674396e+06</td>\n",
       "    </tr>\n",
       "    <tr>\n",
       "      <th>59</th>\n",
       "      <td>100085</td>\n",
       "      <td>2017</td>\n",
       "      <td>33</td>\n",
       "      <td>5.659770e+04</td>\n",
       "      <td>5.393810e+04</td>\n",
       "      <td>4.790533e+04</td>\n",
       "      <td>5.092172e+04</td>\n",
       "      <td>4.706204e+04</td>\n",
       "      <td>2.465000e+04</td>\n",
       "      <td>2.828263e+04</td>\n",
       "      <td>1.0</td>\n",
       "      <td>0.0</td>\n",
       "      <td>5.309481e+04</td>\n",
       "      <td>4.998112e+04</td>\n",
       "      <td>5.170014e+04</td>\n",
       "      <td>5.114876e+04</td>\n",
       "      <td>4.586198e+04</td>\n",
       "      <td>2.380671e+04</td>\n",
       "      <td>2.795829e+04</td>\n",
       "    </tr>\n",
       "  </tbody>\n",
       "</table>\n",
       "</div>"
      ],
      "text/plain": [
       "day_of_week  series_id  year  week             0             1             2  \\\n",
       "18              100027  2017    31  2.234092e+05  2.421206e+05  2.236881e+05   \n",
       "30              100040  2017    47  9.141786e+06  1.789654e+07  2.205407e+07   \n",
       "46              100053  2014    49  2.580721e+06  2.527722e+06  2.228609e+06   \n",
       "52              100064  2017    33  3.508516e+06  3.610174e+06  3.430317e+06   \n",
       "59              100085  2017    33  5.659770e+04  5.393810e+04  4.790533e+04   \n",
       "\n",
       "day_of_week             3             4             5             6  counter  \\\n",
       "18           2.314981e+05  2.486173e+05  2.153784e+05  2.081496e+04      1.0   \n",
       "30           2.198051e+07  1.755774e+07  4.284556e+06  4.545455e+06      1.0   \n",
       "46           2.285569e+06  2.526073e+06  1.354144e+06  1.248819e+06      1.0   \n",
       "52           3.659700e+06  3.818704e+06  2.739562e+06  2.226057e+06      1.0   \n",
       "59           5.092172e+04  4.706204e+04  2.465000e+04  2.828263e+04      1.0   \n",
       "\n",
       "day_of_week  no_third      y_monday     y_tuesday   y_wednesday    y_thursday  \\\n",
       "18                0.0  2.599371e+05  2.614363e+05  2.396716e+05  2.405633e+05   \n",
       "30                0.0  9.965927e+06  1.851240e+07  2.099266e+07  2.279996e+07   \n",
       "46                0.0  1.098561e+06  2.110248e+06  2.018555e+06  2.041319e+06   \n",
       "52                0.0  3.206147e+06  3.161835e+06  3.247853e+06  3.498089e+06   \n",
       "59                0.0  5.309481e+04  4.998112e+04  5.170014e+04  5.114876e+04   \n",
       "\n",
       "day_of_week      y_friday    y_saturday      y_sunday  \n",
       "18           2.510928e+05  2.179701e+05  2.064063e+04  \n",
       "30           1.798809e+07  4.500479e+06  4.960266e+06  \n",
       "46           2.057817e+06  1.109283e+06  7.726233e+05  \n",
       "52           3.922969e+06  3.002831e+06  2.674396e+06  \n",
       "59           4.586198e+04  2.380671e+04  2.795829e+04  "
      ]
     },
     "execution_count": 24,
     "metadata": {},
     "output_type": "execute_result"
    }
   ],
   "source": [
    "days_to_predict = ['y_monday', 'y_tuesday', 'y_wednesday', 'y_thursday', 'y_friday', 'y_saturday', 'y_sunday']\n",
    "for i in range(len(days_to_predict)):\n",
    "        df_train_1[days_to_predict[i]] = np.asarray(df_0[i][df_0['counter'] == 1])# appending labels for week 2 to data of week 1\n",
    "        df_train_2[days_to_predict[i]] = np.asarray(df_0[i][df_0['counter'] == 2])# appending labels for week 3 to data of week 2\n",
    "\n",
    "df_combine = pd.DataFrame(columns = ['series_id', 'year', 'week', 0, 1, 2, 3, 4, 5, 6, 'counter','no_third', 'y_monday', 'y_tuesday', 'y_wednesday',\n",
    "       'y_thursday', 'y_friday', 'y_saturday', 'y_sunday'])\n",
    "df_combine = df_combine.append(df_train_1, ignore_index = True)\n",
    "df_combine = df_combine.append(df_train_2, ignore_index =True)\n",
    "df_combine = df_combine.drop(['no_third'], axis = 1)  #dropping columns that \n",
    "df_train_2.head()        "
   ]
  },
  {
   "cell_type": "code",
   "execution_count": 25,
   "metadata": {},
   "outputs": [
    {
     "data": {
      "text/plain": [
       "Index(['series_id', 'year', 'week', 'monday', 'tuesday', 'wednesday',\n",
       "       'thursday', 'friday', 'saturday', 'sunday', 'counter', 'y_monday',\n",
       "       'y_tuesday', 'y_wednesday', 'y_thursday', 'y_friday', 'y_saturday',\n",
       "       'y_sunday'],\n",
       "      dtype='object')"
      ]
     },
     "execution_count": 25,
     "metadata": {},
     "output_type": "execute_result"
    }
   ],
   "source": [
    "df_combine.columns = ['series_id', 'year', 'week','monday', 'tuesday', 'wednesday', 'thursday', 'friday',\n",
    "       'saturday', 'sunday', 'counter', 'y_monday', 'y_tuesday', 'y_wednesday',\n",
    "       'y_thursday', 'y_friday', 'y_saturday', 'y_sunday']\n",
    "df_combine.columns"
   ]
  },
  {
   "cell_type": "code",
   "execution_count": 26,
   "metadata": {},
   "outputs": [
    {
     "name": "stdout",
     "output_type": "stream",
     "text": [
      "480 120\n"
     ]
    }
   ],
   "source": [
    "#Splitting df_train into training and test sets\n",
    "\n",
    "df_train, df_test = train_test_split(df_combine, test_size=0.2, random_state = 5)\n",
    "print(len(df_train), len(df_test))"
   ]
  },
  {
   "cell_type": "code",
   "execution_count": 27,
   "metadata": {},
   "outputs": [],
   "source": [
    "df_arima = consumption.copy()\n",
    "df_panelOLS = consumption.copy()"
   ]
  },
  {
   "cell_type": "markdown",
   "metadata": {},
   "source": [
    "### Model training and performance analysis"
   ]
  },
  {
   "cell_type": "markdown",
   "metadata": {},
   "source": [
    "#### Linear Model"
   ]
  },
  {
   "cell_type": "code",
   "execution_count": 28,
   "metadata": {},
   "outputs": [
    {
     "name": "stdout",
     "output_type": "stream",
     "text": [
      "Test accuracy for consumption prediction for each of the days is [0.8787695097316557, 0.9785628683265383, 0.9831163961650613, 0.9823956218193151, 0.9536681193627521, 0.7867752948517845, 0.8054519987034406]\n"
     ]
    }
   ],
   "source": [
    "from sklearn import linear_model\n",
    "betas = [] # coeffs for prediction corresponding to the ith day\n",
    "intercepts = [] #intercepts\n",
    "train_scores = []# train scores for ith day\n",
    "y_predict_1 = []\n",
    "y_predict_2 = []\n",
    "y_predict_3 = []\n",
    "test_scores = []# test scores for ith day\n",
    "from sklearn.metrics import mean_squared_error\n",
    "for i in range(len(days_to_predict)):\n",
    "    reg = linear_model.LinearRegression()\n",
    "    soln = reg.fit(df_train[['monday','tuesday','wednesday','thursday','friday','saturday','sunday']], df_train[days_to_predict[i]])\n",
    "    betas.append(soln.coef_)\n",
    "    intercepts.append(soln.intercept_)\n",
    "    train_scores.append(soln.score(df_train[['monday','tuesday','wednesday','thursday','friday','saturday','sunday']], df_train[days_to_predict[i]]))\n",
    "    test_scores.append(soln.score(df_test[['monday','tuesday','wednesday','thursday','friday','saturday','sunday']], df_test[days_to_predict[i]]))\n",
    "    #mse = mean_squared_error(soln.predict(df_test[['monday','tuesday','wednesday','thursday','friday','saturday','sunday']]), df_test[days_to_predict[i]])\n",
    "    #print(mse)\n",
    "    #break\n",
    "print('Test accuracy for consumption prediction for each of the days is', test_scores) #shows the test scores for all the seven models that predict for each of the days"
   ]
  },
  {
   "cell_type": "code",
   "execution_count": 29,
   "metadata": {},
   "outputs": [
    {
     "name": "stdout",
     "output_type": "stream",
     "text": [
      "Overall accuracy: 0.9098199727086496\n"
     ]
    }
   ],
   "source": [
    "#Empirical expectation of accuracy across the models predicting the data for the seven days of the week\n",
    "print('Overall accuracy:',(sum(test_scores)/len(test_scores)))"
   ]
  },
  {
   "cell_type": "markdown",
   "metadata": {},
   "source": [
    "#### Polynomial Regression"
   ]
  },
  {
   "cell_type": "code",
   "execution_count": 30,
   "metadata": {},
   "outputs": [],
   "source": [
    "from sklearn.preprocessing import PolynomialFeatures\n",
    "poly = PolynomialFeatures(degree = 2, interaction_only = True)"
   ]
  },
  {
   "cell_type": "code",
   "execution_count": 31,
   "metadata": {},
   "outputs": [
    {
     "name": "stdout",
     "output_type": "stream",
     "text": [
      "Test accuracy for consumption prediction for each of the days is [0.4077922132316692, 0.8766077271205142, 0.9396119613553084, 0.8370728226107804, 0.8468659980468509, -0.3348760627044267, 0.7012236880916348]\n",
      "Train accuracy for consumption prediction for each of the days is [0.9423620324777784, 0.9728421106889772, 0.9792147300363963, 0.969775864588211, 0.9477447357936579, 0.878897533019006, 0.8217181431296118]\n"
     ]
    }
   ],
   "source": [
    "from sklearn import linear_model\n",
    "betas_2 = [] # coeffs for prediction corresponding to the ith day\n",
    "intercepts_2 = [] #intercepts\n",
    "train_scores_2 = []# train scores for ith day\n",
    "test_scores_2 = []# test scores for ith day\n",
    "for i in range(len(days_to_predict)):\n",
    "    reg = linear_model.LinearRegression()\n",
    "    soln = reg.fit(poly.fit_transform(df_train[['monday','tuesday','wednesday','thursday','friday','saturday','sunday']]),\n",
    "                   df_train[days_to_predict[i]])\n",
    "    betas_2.append(soln.coef_)\n",
    "    intercepts_2.append(soln.intercept_)\n",
    "    train_scores_2.append(soln.score(poly.fit_transform(df_train[['monday','tuesday','wednesday','thursday','friday','saturday','sunday']]),\n",
    "                                     df_train[days_to_predict[i]]))\n",
    "    test_scores_2.append(soln.score(poly.fit_transform(df_test[['monday','tuesday','wednesday','thursday','friday','saturday','sunday']]),\n",
    "                                    df_test[days_to_predict[i]]))\n",
    "\n",
    "print('Test accuracy for consumption prediction for each of the days is', test_scores_2) #shows the test scores for all the seven models that predict for each of the days\n",
    "print('Train accuracy for consumption prediction for each of the days is', train_scores_2) #shows the test scores for all the seven models that predict for each of the days\n"
   ]
  },
  {
   "cell_type": "code",
   "execution_count": 32,
   "metadata": {},
   "outputs": [
    {
     "name": "stdout",
     "output_type": "stream",
     "text": [
      "Overall accuracy: 0.6106140496789044\n"
     ]
    }
   ],
   "source": [
    "print('Overall accuracy:',(sum(test_scores_2)/len(test_scores_2)))\n",
    "\n",
    "#The overall accuracy as well as low test score, despite high training score clearly suggests that the model overfits"
   ]
  },
  {
   "cell_type": "markdown",
   "metadata": {},
   "source": [
    "#### Ridge Regression"
   ]
  },
  {
   "cell_type": "code",
   "execution_count": 33,
   "metadata": {},
   "outputs": [],
   "source": [
    "betas_3 = [] # coeffs for prediction corresponding to the ith day\n",
    "intercepts_3 = [] #intercepts\n",
    "train_scores_3 = []# train scores for ith day\n",
    "test_scores_3 = []# test scores for ith day\n",
    "for i in range(len(days_to_predict)):\n",
    "    reg = linear_model.Ridge(alpha = 1)\n",
    "    soln = reg.fit(df_train[['monday','tuesday','wednesday','thursday','friday','saturday','sunday']], df_train[days_to_predict[i]])\n",
    "    #betas_3.append(soln.sparse_coef_)\n",
    "    intercepts_3.append(soln.intercept_)\n",
    "    train_scores_3.append(soln.score(df_train[['monday','tuesday','wednesday','thursday','friday','saturday','sunday']], df_train[days_to_predict[i]]))\n",
    "    test_scores_3.append(soln.score(df_test[['monday','tuesday','wednesday','thursday','friday','saturday','sunday']], df_test[days_to_predict[i]]))\n"
   ]
  },
  {
   "cell_type": "code",
   "execution_count": 34,
   "metadata": {},
   "outputs": [
    {
     "name": "stdout",
     "output_type": "stream",
     "text": [
      "Test accuracy for consumption prediction for each of the days is [0.8787695097316565, 0.9785628683265374, 0.9831163961650622, 0.982395621819315, 0.9536681193627523, 0.7867752948517849, 0.8054519987034408]\n",
      "Train accuracy for consumption prediction for each of the days is [0.9043582918838863, 0.9637644074009003, 0.9736728188147212, 0.9607897691312147, 0.8751056555229568, 0.7089294578897931, 0.7495578026529837]\n"
     ]
    }
   ],
   "source": [
    "\n",
    "print('Test accuracy for consumption prediction for each of the days is', test_scores_3) #shows the test scores for all the seven models that predict for each of the days\n",
    "print('Train accuracy for consumption prediction for each of the days is', train_scores_3) #shows the test scores for all the seven models that predict for each of the days\n"
   ]
  },
  {
   "cell_type": "code",
   "execution_count": 35,
   "metadata": {},
   "outputs": [
    {
     "name": "stdout",
     "output_type": "stream",
     "text": [
      "Overall accuracy:  0.9098199727086499\n"
     ]
    }
   ],
   "source": [
    "print(\"Overall accuracy: \", sum(test_scores_3)/len(test_scores_3))\n",
    "#mean(test_scores_3)"
   ]
  },
  {
   "cell_type": "markdown",
   "metadata": {},
   "source": [
    "#### Lasso"
   ]
  },
  {
   "cell_type": "code",
   "execution_count": 36,
   "metadata": {},
   "outputs": [
    {
     "name": "stderr",
     "output_type": "stream",
     "text": [
      "/srv/app/venv/lib/python3.6/site-packages/sklearn/linear_model/coordinate_descent.py:491: ConvergenceWarning: Objective did not converge. You might want to increase the number of iterations. Fitting data with very small alpha may cause precision problems.\n",
      "  ConvergenceWarning)\n"
     ]
    }
   ],
   "source": [
    "betas_4 = [] # coeffs for prediction corresponding to the ith day\n",
    "intercepts_4 = [] #intercepts\n",
    "train_scores_4 = []# train scores for ith day\n",
    "test_scores_4 = []# test scores for ith day\n",
    "for i in range(len(days_to_predict)):\n",
    "    reg = linear_model.Lasso(alpha = 1)\n",
    "    soln = reg.fit(df_train[['monday','tuesday','wednesday','thursday','friday','saturday','sunday']], df_train[days_to_predict[i]])\n",
    "    #betas_3.append(soln.sparse_coef_)\n",
    "    intercepts_4.append(soln.intercept_)\n",
    "    train_scores_4.append(soln.score(df_train[['monday','tuesday','wednesday','thursday','friday','saturday','sunday']], df_train[days_to_predict[i]]))\n",
    "    test_scores_4.append(soln.score(df_test[['monday','tuesday','wednesday','thursday','friday','saturday','sunday']], df_test[days_to_predict[i]]))\n"
   ]
  },
  {
   "cell_type": "code",
   "execution_count": 37,
   "metadata": {},
   "outputs": [
    {
     "name": "stdout",
     "output_type": "stream",
     "text": [
      "Test accuracy for consumption prediction for each of the days is [0.8787695134075012, 0.9785628682086241, 0.9831163958200647, 0.982395621542134, 0.9536681230761688, 0.7867752938217407, 0.8054519989422708]\n",
      "Train accuracy for consumption prediction for each of the days is [0.9043582918838858, 0.9637644074009003, 0.973672818814721, 0.9607897691312147, 0.8751056555229564, 0.7089294578897931, 0.7495578026529834]\n"
     ]
    }
   ],
   "source": [
    "print('Test accuracy for consumption prediction for each of the days is', test_scores_4) #shows the test scores for all the seven models that predict for each of the days\n",
    "print('Train accuracy for consumption prediction for each of the days is', train_scores_4) #shows the test scores for all the seven models that predict for each of the days\n"
   ]
  },
  {
   "cell_type": "code",
   "execution_count": 38,
   "metadata": {},
   "outputs": [
    {
     "name": "stdout",
     "output_type": "stream",
     "text": [
      "Overall accuracy:  0.9098199735455006\n"
     ]
    }
   ],
   "source": [
    "print(\"Overall accuracy: \",sum(test_scores_4)/len(test_scores_4))"
   ]
  },
  {
   "cell_type": "markdown",
   "metadata": {},
   "source": [
    "#### Comparison Plots"
   ]
  },
  {
   "cell_type": "code",
   "execution_count": 39,
   "metadata": {},
   "outputs": [
    {
     "data": {
      "image/png": "[encoded data removed]",
      "text/plain": [
       "<Figure size 432x288 with 1 Axes>"
      ]
     },
     "metadata": {
      "needs_background": "light"
     },
     "output_type": "display_data"
    }
   ],
   "source": [
    "x = [i for i in range(7)] # x-axis is the number of days\n",
    "plt.figure()\n",
    "plt.title('Comparison of validation scores for Ridge and Polynomial Regression')\n",
    "#plt.plot(x, test_scores, label = 'Linear')\n",
    "plt.xlabel('Day of the week')\n",
    "plt.ylabel('R^2 score')\n",
    "plt.plot(x, test_scores_3, label = 'Ridge')\n",
    "plt.plot(x, test_scores_2, label = 'Polynomial')\n",
    "plt.legend()\n",
    "plt.show() "
   ]
  },
  {
   "cell_type": "markdown",
   "metadata": {},
   "source": [
    "#### Random Forest by using  'GridSearchCV' package"
   ]
  },
  {
   "cell_type": "code",
   "execution_count": 40,
   "metadata": {},
   "outputs": [],
   "source": [
    "from sklearn.ensemble import RandomForestRegressor\n",
    "from sklearn.model_selection import GridSearchCV\n",
    "\n",
    "estimator = RandomForestRegressor()\n",
    "\n",
    "param_grid = { \n",
    "            \"n_estimators\"      : [10, 30, 50, 100],\n",
    "            \"max_features\"      : [\"auto\", \"sqrt\", \"log2\"],\n",
    "            \"min_samples_split\" : [2,4,8],\n",
    "            \"bootstrap\": [True, False],\n",
    "            \"max_depth\": [5, 8, 10, 12]\n",
    "            }\n",
    "\n",
    "grid = GridSearchCV(estimator, param_grid, n_jobs=-1, cv=5)\n",
    "\n",
    "X_t = df_train[['monday','tuesday','wednesday','thursday','friday','saturday','sunday']]\n",
    "y_t = df_train[['y_monday', 'y_tuesday', 'y_wednesday','y_thursday', 'y_friday', 'y_saturday', 'y_sunday']]\n",
    "\n",
    "grid.fit(X_t,df_train['y_monday'])\n",
    "\n",
    "best_params = grid.best_params_"
   ]
  },
  {
   "cell_type": "code",
   "execution_count": 41,
   "metadata": {},
   "outputs": [],
   "source": [
    "rf_train_scores = []# train scores for ith day\n",
    "rf_test_scores = []# test scores for ith day\n",
    "\n",
    "for i in range(len(days_to_predict)):\n",
    "    random_forest = RandomForestRegressor(n_jobs=-1).set_params(**best_params)\n",
    "    random_forest.fit(X_t, y_t[days_to_predict[i]])\n",
    "    rf_train_scores.append(random_forest.score(X_t, y_t[days_to_predict[i]]))\n",
    "    rf_test_scores.append(random_forest.score(df_test[['monday','tuesday','wednesday','thursday','friday','saturday','sunday']], df_test[days_to_predict[i]]))"
   ]
  },
  {
   "cell_type": "code",
   "execution_count": 42,
   "metadata": {},
   "outputs": [
    {
     "name": "stdout",
     "output_type": "stream",
     "text": [
      "Test accuracy for consumption prediction for each of the days is [0.8544082869160329, 0.971176003460495, 0.9771037614501734, 0.9777038651440481, 0.9251157427158826, 0.878711377185169, 0.8174179829712848]\n",
      "Train accuracy for consumption prediction for each of the days is [0.9566127376126348, 0.9853040246297943, 0.98268262943777, 0.9773117876654411, 0.9486164849989265, 0.9148477934157745, 0.9359303446762537]\n",
      "Overall accuracy:  0.9145195742632979\n"
     ]
    }
   ],
   "source": [
    "print('Test accuracy for consumption prediction for each of the days is', rf_test_scores) #shows the test scores for all the seven models that predict for each of the days\n",
    "print('Train accuracy for consumption prediction for each of the days is', rf_train_scores) #shows the test scores for all the seven models that predict for each of the days\n",
    "print(\"Overall accuracy: \",sum(rf_test_scores)/len(rf_test_scores))"
   ]
  },
  {
   "cell_type": "markdown",
   "metadata": {},
   "source": [
    "#### Neural nets"
   ]
  },
  {
   "cell_type": "code",
   "execution_count": 43,
   "metadata": {},
   "outputs": [
    {
     "name": "stderr",
     "output_type": "stream",
     "text": [
      "/srv/app/venv/lib/python3.6/site-packages/h5py/__init__.py:34: FutureWarning: Conversion of the second argument of issubdtype from `float` to `np.floating` is deprecated. In future, it will be treated as `np.float64 == np.dtype(float).type`.\n",
      "  from ._conv import register_converters as _register_converters\n",
      "Using TensorFlow backend.\n"
     ]
    }
   ],
   "source": [
    "# Using keras\n",
    "import keras.backend as K\n",
    "from keras import layers\n",
    "from keras.models import Sequential\n",
    "from keras.layers import Dense, LSTM\n"
   ]
  },
  {
   "cell_type": "code",
   "execution_count": 44,
   "metadata": {},
   "outputs": [],
   "source": [
    "feed_train = df_train[['monday','tuesday','wednesday','thursday','friday','saturday','sunday', 'y_monday']]\n",
    "feed_test = df_test[['monday','tuesday','wednesday','thursday','friday','saturday','sunday', 'y_monday']]\n",
    "feed_train = np.asarray(feed_train)\n",
    "Y_train = feed_train[:,7]\n",
    "train_temp = feed_train[:,0:7]\n",
    "\n",
    "feed_test = np.asarray(feed_test)\n",
    "Y_test = feed_test[:,7]\n",
    "test_temp = feed_test[:,0:7]\n"
   ]
  },
  {
   "cell_type": "code",
   "execution_count": 45,
   "metadata": {},
   "outputs": [
    {
     "data": {
      "text/plain": [
       "<keras.callbacks.History at 0x7f06e645add8>"
      ]
     },
     "execution_count": 45,
     "metadata": {},
     "output_type": "execute_result"
    }
   ],
   "source": [
    "# for lstm, shape needs to be samples, timesteps, features\n",
    "X_train = np.reshape(train_temp, (train_temp.shape[0], train_temp.shape[1], 1))\n",
    "X_test = np.reshape(test_temp, (test_temp.shape[0], test_temp.shape[1], 1))\n",
    "\n",
    "# create and fit the LSTM network\n",
    "model = Sequential()\n",
    "model.add(LSTM(4, input_shape=(7, 1)))\n",
    "model.add(Dense(1))\n",
    "model.compile(loss='mean_absolute_error',  optimizer='adam')\n",
    "model.fit(X_train, Y_train, epochs=50, batch_size=1, verbose=0)\n",
    "\n"
   ]
  },
  {
   "cell_type": "code",
   "execution_count": 46,
   "metadata": {},
   "outputs": [
    {
     "name": "stdout",
     "output_type": "stream",
     "text": [
      " 32/120 [=======>......................] - ETA: 0s2375519.466666667\n"
     ]
    }
   ],
   "source": [
    "Y_test = feed_test[:,7]\n",
    "test_temp = feed_test[:,0:7]\n",
    "X_test = np.reshape(test_temp, (test_temp.shape[0], test_temp.shape[1], 1))\n",
    "preds = model.predict(X_test)\n",
    "print(model.evaluate(X_test, Y_test))\n",
    "# So lstm gives very poor results, it is not the right choice given the quantum of data"
   ]
  },
  {
   "cell_type": "markdown",
   "metadata": {},
   "source": [
    "#### Panel OLS"
   ]
  },
  {
   "cell_type": "code",
   "execution_count": 48,
   "metadata": {},
   "outputs": [
    {
     "name": "stdout",
     "output_type": "stream",
     "text": [
      "Collecting linearmodels\n",
      "  Using cached https://files.pythonhosted.org/packages/1e/a4/9e2c1e47d6876ecb40e341bfd8d04d02623a2e6a16a728b41b7ee6f45772/linearmodels-4.11-py2.py3-none-any.whl\n",
      "Requirement already satisfied: numpy>=1.11 in /srv/app/venv/lib/python3.6/site-packages (from linearmodels)\n",
      "Requirement already satisfied: statsmodels>=0.8 in /srv/app/venv/lib/python3.6/site-packages (from linearmodels)\n",
      "Requirement already satisfied: patsy in /srv/app/venv/lib/python3.6/site-packages (from linearmodels)\n",
      "Collecting cached-property>=1.5.1 (from linearmodels)\n",
      "  Using cached https://files.pythonhosted.org/packages/3b/86/85c1be2e8db9e13ef9a350aecd6dea292bd612fa288c2f40d035bb750ded/cached_property-1.5.1-py2.py3-none-any.whl\n",
      "Requirement already satisfied: scipy>=0.18 in /srv/app/venv/lib/python3.6/site-packages (from linearmodels)\n",
      "Requirement already satisfied: pandas>=0.19 in /srv/app/venv/lib/python3.6/site-packages (from linearmodels)\n",
      "Requirement already satisfied: six in /srv/app/venv/lib/python3.6/site-packages (from patsy->linearmodels)\n",
      "Requirement already satisfied: python-dateutil>=2.5.0 in /srv/app/venv/lib/python3.6/site-packages (from pandas>=0.19->linearmodels)\n",
      "Requirement already satisfied: pytz>=2011k in /srv/app/venv/lib/python3.6/site-packages (from pandas>=0.19->linearmodels)\n",
      "Installing collected packages: cached-property, linearmodels\n",
      "Successfully installed cached-property-1.5.1 linearmodels-4.11\n"
     ]
    }
   ],
   "source": [
    "!pip install linearmodels"
   ]
  },
  {
   "cell_type": "code",
   "execution_count": 49,
   "metadata": {},
   "outputs": [
    {
     "name": "stdout",
     "output_type": "stream",
     "text": [
      "                          PanelOLS Estimation Summary                           \n",
      "================================================================================\n",
      "Dep. Variable:        ind_consumption   R-squared:                        0.8703\n",
      "Estimator:                   PanelOLS   R-squared (Between):              1.0000\n",
      "No. Observations:               21224   R-squared (Within):             2.22e-16\n",
      "Date:                Fri, Dec 07 2018   R-squared (Overall):              0.9049\n",
      "Time:                        21:52:55   Log-likelihood                -3.282e+05\n",
      "Cov. Estimator:             Clustered                                           \n",
      "                                        F-statistic:                   1.311e+05\n",
      "Entities:                         758   P-value                           0.0000\n",
      "Avg Obs:                       28.000   Distribution:                 F(1,19540)\n",
      "Min Obs:                       28.000                                           \n",
      "Max Obs:                       28.000   F-statistic (robust):          1.311e+06\n",
      "                                        P-value                           0.0000\n",
      "Time periods:                    1683   Distribution:                 F(1,19540)\n",
      "Avg Obs:                       12.611                                           \n",
      "Min Obs:                       1.0000                                           \n",
      "Max Obs:                       41.000                                           \n",
      "                                                                                \n",
      "                                Parameter Estimates                                \n",
      "===================================================================================\n",
      "                 Parameter  Std. Err.     T-stat    P-value    Lower CI    Upper CI\n",
      "-----------------------------------------------------------------------------------\n",
      "avg_consumption     0.0358  3.125e-05     1144.8     0.0000      0.0357      0.0358\n",
      "===================================================================================\n",
      "\n",
      "F-test for Poolability: 2.1437\n",
      "P-value: 0.0000\n",
      "Distribution: F(1682,19540)\n",
      "\n",
      "Included effects: Time\n"
     ]
    }
   ],
   "source": [
    "from linearmodels import PanelOLS\n",
    "\n",
    "df_panelOLS['date'] = [d.date() for d in df_panelOLS['timestamp']]\n",
    "df_panelOLS1= pd.DataFrame(df_panelOLS.groupby(['series_id','date'])['consumption'].sum().reset_index())\n",
    "df_panelOLS1_mean= pd.DataFrame(df_panelOLS1.groupby(['series_id'])['consumption'].sum().reset_index())\n",
    "\n",
    "df_panelOLS3 = pd.merge(df_panelOLS1,df_panelOLS1_mean,how='left',left_on = 'series_id',right_on = 'series_id')\n",
    "df_panelOLS3.columns = ['series_id','date','ind_consumption','avg_consumption']\n",
    "df_panelOLS4 = df_panelOLS3.set_index(['series_id','date'])\n",
    "\n",
    "\n",
    "md = PanelOLS(df_panelOLS4['ind_consumption'],df_panelOLS4[['avg_consumption']],time_effects = True)\n",
    "res = md.fit(cov_type='clustered',cluster_entity=True)\n",
    "print(res)"
   ]
  },
  {
   "cell_type": "markdown",
   "metadata": {},
   "source": [
    "#### AdaBoost Model"
   ]
  },
  {
   "cell_type": "code",
   "execution_count": 50,
   "metadata": {},
   "outputs": [],
   "source": [
    "from sklearn.ensemble import AdaBoostRegressor\n",
    "train_scores_ada = []# train scores for ith day\n",
    "test_scores_ada = []# test scores for ith day\n",
    "for i in range(len(days_to_predict)):\n",
    "    ada = AdaBoostRegressor()\n",
    "    soln = ada.fit(df_train[['monday','tuesday','wednesday','thursday','friday','saturday','sunday']], df_train[days_to_predict[i]])\n",
    "    train_scores_ada.append(soln.score(df_train[['monday','tuesday','wednesday','thursday','friday','saturday','sunday']], df_train[days_to_predict[i]]))\n",
    "    test_scores_ada.append(soln.score(df_test[['monday','tuesday','wednesday','thursday','friday','saturday','sunday']], df_test[days_to_predict[i]]))\n",
    "    "
   ]
  },
  {
   "cell_type": "code",
   "execution_count": 51,
   "metadata": {},
   "outputs": [
    {
     "name": "stdout",
     "output_type": "stream",
     "text": [
      "Test accuracy for consumption prediction for each of the days is [0.7967950248238798, 0.9532419352651554, 0.9214789695389635, 0.9523383288332379, 0.91646225519467, 0.41108651770806187, 0.7680721416101977]\n",
      "Train accuracy for consumption prediction for each of the days is [0.9275943733945691, 0.9717370294094249, 0.9592449431832765, 0.956800368878107, 0.9066578375867089, 0.9070878298532841, 0.9281431099750093]\n",
      "Overall accuracy:  0.8170678818534522\n"
     ]
    }
   ],
   "source": [
    "print('Test accuracy for consumption prediction for each of the days is', test_scores_ada) #shows the test scores for all the seven models that predict for each of the days\n",
    "print('Train accuracy for consumption prediction for each of the days is', train_scores_ada) #shows the test scores for all the seven models that predict for each of the days\n",
    "\n",
    "print(\"Overall accuracy: \",sum(test_scores_ada)/len(test_scores_ada))"
   ]
  },
  {
   "cell_type": "markdown",
   "metadata": {},
   "source": [
    "#### ARIMA"
   ]
  },
  {
   "cell_type": "code",
   "execution_count": 59,
   "metadata": {},
   "outputs": [
    {
     "name": "stdout",
     "output_type": "stream",
     "text": [
      "                             ARIMA Model Results                              \n",
      "==============================================================================\n",
      "Dep. Variable:          D.consumption   No. Observations:                   27\n",
      "Model:                 ARIMA(2, 1, 1)   Log Likelihood                -414.884\n",
      "Method:                       css-mle   S.D. of innovations        1130276.310\n",
      "Date:                Fri, 07 Dec 2018   AIC                            839.769\n",
      "Time:                        21:57:47   BIC                            846.248\n",
      "Sample:                    12-25-2014   HQIC                           841.695\n",
      "                         - 01-20-2015                                         \n",
      "=======================================================================================\n",
      "                          coef    std err          z      P>|z|      [0.025      0.975]\n",
      "---------------------------------------------------------------------------------------\n",
      "const                6643.5491   2.11e+05      0.031      0.975   -4.07e+05    4.21e+05\n",
      "ar.L1.D.consumption    -0.3950      0.307     -1.288      0.211      -0.996       0.206\n",
      "ar.L2.D.consumption    -0.2939      0.201     -1.465      0.156      -0.687       0.099\n",
      "ma.L1.D.consumption     0.6275      0.303      2.068      0.050       0.033       1.222\n",
      "                                    Roots                                    \n",
      "=============================================================================\n",
      "                 Real           Imaginary           Modulus         Frequency\n",
      "-----------------------------------------------------------------------------\n",
      "AR.1           -0.6720           -1.7177j            1.8445           -0.3094\n",
      "AR.2           -0.6720           +1.7177j            1.8445            0.3094\n",
      "MA.1           -1.5937           +0.0000j            1.5937            0.5000\n",
      "-----------------------------------------------------------------------------\n"
     ]
    }
   ],
   "source": [
    "from statsmodels.tsa.arima_model import ARIMA\n",
    "\n",
    "\n",
    "df_arima['date'] = [d.date() for d in df_arima['timestamp']]\n",
    "\n",
    "df_train_AR= pd.DataFrame(df_arima.groupby(['series_id','date'])['consumption'].sum().reset_index())\n",
    "df_train_AR_1 = df_train_AR[df_train_AR['series_id']==103088].set_index(['date'])  #running the ARIMA model for one of the buildings - as a demo\n",
    "\n",
    "# unique_series_id = df1['series_id'].unique()\n",
    "# df1 = df[df['series_id'] == 103088]\n",
    "# # drop_cols = ['Sl No','series_id','temperature']\n",
    "# df1 = df1[['timestamp','consumption']].reset_index().set_index(df1['timestamp'])\n",
    "# df11 = df1[['consumption']]\n",
    "# df2.head()\n",
    "# print(len(unique_series_id))\n",
    "\n",
    "model = ARIMA(df_train_AR_1['consumption'],order=(2,1,1))\n",
    "model_fit = model.fit(disp=0)\n",
    "print(model_fit.summary())"
   ]
  },
  {
   "cell_type": "markdown",
   "metadata": {},
   "source": [
    "#### Plotting percentage wise importance of different days for predicting consumption for next Monday"
   ]
  },
  {
   "cell_type": "code",
   "execution_count": 60,
   "metadata": {},
   "outputs": [
    {
     "name": "stdout",
     "output_type": "stream",
     "text": [
      "[1734733.222573077, -213442.98968444017, 26752.63897813997, -1208337.3371753509, 2165458.0082230177, -383018.76015779446, 569461.1513326295]\n"
     ]
    },
    {
     "data": {
      "image/png": "[encoded data removed]",
      "text/plain": [
       "<Figure size 432x288 with 1 Axes>"
      ]
     },
     "metadata": {
      "needs_background": "light"
     },
     "output_type": "display_data"
    }
   ],
   "source": [
    "mean_consumption = []\n",
    "days = ['monday', 'tuesday', 'wednesday', 'thursday', 'friday', 'saturday', 'sunday']\n",
    "for i in days:\n",
    "    mean_consumption.append(df_train[i].mean())\n",
    "consumption_percent = []\n",
    "for i in range(7):\n",
    "    consumption_percent.append(mean_consumption[i] * betas[0][i])\n",
    "print(consumption_percent)\n",
    "cons_final = np.asarray(consumption_percent)\n",
    "cons_final = cons_final[[0,4,6]] # only saturday, sunday, monday as they contain the highest positive values for beta\n",
    "total = 0\n",
    "for i in cons_final:\n",
    "    total += i\n",
    "cons_final = cons_final/total # to get percentage\n",
    "# Using data from Linear regression\n",
    "plt.figure()\n",
    "plt.title(\"Top 3 days that give us information about consumption on next week's Monday\")\n",
    "plt.xlabel(\"Days\")\n",
    "plt.ylabel(\"% contribution\")\n",
    "plt.bar(['mon', 'sat', 'sun'], cons_final)\n",
    "plt.show()"
   ]
  },
  {
   "cell_type": "markdown",
   "metadata": {},
   "source": [
    "#### Using Recursive Feature Elimination"
   ]
  },
  {
   "cell_type": "code",
   "execution_count": 61,
   "metadata": {},
   "outputs": [],
   "source": [
    "from sklearn.feature_selection import RFE"
   ]
  },
  {
   "cell_type": "code",
   "execution_count": 62,
   "metadata": {},
   "outputs": [
    {
     "name": "stdout",
     "output_type": "stream",
     "text": [
      "For monday, the best predictors are: \n",
      "monday\n",
      "friday\n",
      "sunday\n",
      "For tuesday, the best predictors are: \n",
      "tuesday\n",
      "wednesday\n",
      "sunday\n",
      "For wednesday, the best predictors are: \n",
      "tuesday\n",
      "wednesday\n",
      "thursday\n",
      "For thursday, the best predictors are: \n",
      "tuesday\n",
      "wednesday\n",
      "thursday\n",
      "For friday, the best predictors are: \n",
      "wednesday\n",
      "saturday\n",
      "sunday\n",
      "For saturday, the best predictors are: \n",
      "monday\n",
      "wednesday\n",
      "sunday\n",
      "For sunday, the best predictors are: \n",
      "wednesday\n",
      "friday\n",
      "sunday\n"
     ]
    }
   ],
   "source": [
    "\n",
    "for i in range(7):\n",
    "    reg = linear_model.LinearRegression()\n",
    "    selector = RFE(reg, 3, step=1) # selecting 3 features (days), removing 1 at each iteration\n",
    "    selector = selector.fit(df_train[['monday','tuesday','wednesday','thursday','friday','saturday','sunday']], df_train[days_to_predict[i]])\n",
    "    print(f'For {days[i]}, the best predictors are: ')\n",
    "    for i in range(len(selector.ranking_)):\n",
    "          if selector.ranking_[i] == 1:\n",
    "                print(days[i])\n",
    "          "
   ]
  },
  {
   "cell_type": "markdown",
   "metadata": {},
   "source": [
    "## Export flat-file for UI"
   ]
  },
  {
   "cell_type": "code",
   "execution_count": 63,
   "metadata": {},
   "outputs": [],
   "source": [
    "#Performing sanity check on the first row to estimate\n",
    "\n",
    "first_row = np.asarray(df_test[['monday','tuesday','wednesday','thursday','friday','saturday','sunday']].iloc[0])\n",
    "first_row = first_row.reshape(1,7)\n",
    "\n",
    "y_predict_1 = np.zeros((7))\n",
    "for i in range(7):\n",
    "    y_predict_1[i] = np.dot(first_row, betas[i])\n",
    "y_predict_1 = y_predict_1.reshape(1,7)\n",
    "\n",
    "y_predict_2 = np.zeros((7))\n",
    "for i in range(7):\n",
    "    y_predict_2[i] = np.dot(y_predict_1, betas[i])\n",
    "y_predict_2 = y_predict_2.reshape(1,7)\n",
    "\n",
    "y_predict_3 = np.zeros((7))\n",
    "for i in range(7):\n",
    "    y_predict_3[i] = np.dot(y_predict_2, betas[i])\n",
    "y_predict_3 = y_predict_3.reshape(1,7)\n",
    "\n",
    "for i in range(7):\n",
    "    y_predict_1[:,i] += intercepts[i]\n",
    "    y_predict_2[:,i] += intercepts[i]\n",
    "    y_predict_3[:,i] += intercepts[i]\n",
    "\n",
    "#Wrangling the data to make it ready for UI\n",
    "\n",
    "y_predict = np.hstack((y_predict_1, y_predict_2, y_predict_3))\n",
    "y_predict.reshape(21,1)\n",
    "\n",
    "y_predict_df = pd.DataFrame(y_predict)\n",
    "y_predict_df.to_csv('preds1.csv')"
   ]
  },
  {
   "cell_type": "code",
   "execution_count": null,
   "metadata": {},
   "outputs": [],
   "source": []
  }
 ],
 "metadata": {
  "anaconda-cloud": {},
  "celltoolbar": "Raw Cell Format",
  "kernelspec": {
   "display_name": "Python 3",
   "language": "python",
   "name": "python3"
  },
  "language_info": {
   "codemirror_mode": {
    "name": "ipython",
    "version": 3
   },
   "file_extension": ".py",
   "mimetype": "text/x-python",
   "name": "python",
   "nbconvert_exporter": "python",
   "pygments_lexer": "ipython3",
   "version": "3.6.7"
  }
 },
 "nbformat": 4,
 "nbformat_minor": 1
}
